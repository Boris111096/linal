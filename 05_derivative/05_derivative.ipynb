{
 "cells": [
  {
   "cell_type": "markdown",
   "metadata": {},
   "source": [
    "# Домашнее задание \"Производная функции нескольких аргументов\"."
   ]
  },
  {
   "cell_type": "code",
   "execution_count": 1,
   "metadata": {},
   "outputs": [],
   "source": [
    "import numpy as np\n",
    "from scipy.optimize import approx_fprime\n",
    "from scipy.misc import derivative\n",
    "from sympy import *\n",
    "x, y = symbols('x y')\n",
    "from scipy.optimize import minimize"
   ]
  },
  {
   "cell_type": "markdown",
   "metadata": {},
   "source": [
    "### Уровень 0:  \n",
    "Посчитайте частные производные функций:  \n",
    "\n",
    "1) $f(x,y)=2x^2y^3 + 1/x + y^2x + 7$, а для этой функции также градиент в точке $(1,2)$  \n",
    "\n",
    "2) $f(x,y)=x^2y - sin(xy) + cos(x^2) + 6y$"
   ]
  },
  {
   "cell_type": "code",
   "execution_count": 2,
   "metadata": {},
   "outputs": [
    {
     "data": {
      "text/latex": [
       "$\\displaystyle 4 x y^{3} + y^{2} - \\frac{1}{x^{2}}$"
      ],
      "text/plain": [
       "4*x*y**3 + y**2 - 1/x**2"
      ]
     },
     "execution_count": 2,
     "metadata": {},
     "output_type": "execute_result"
    }
   ],
   "source": [
    "f1 = 2*x**2*y**3 + 1/x + y**2*x + 7\n",
    "f1x = diff(f1,x)\n",
    "f1x"
   ]
  },
  {
   "cell_type": "code",
   "execution_count": 3,
   "metadata": {},
   "outputs": [
    {
     "data": {
      "text/latex": [
       "$\\displaystyle 6 x^{2} y^{2} + 2 x y$"
      ],
      "text/plain": [
       "6*x**2*y**2 + 2*x*y"
      ]
     },
     "execution_count": 3,
     "metadata": {},
     "output_type": "execute_result"
    }
   ],
   "source": [
    "f1y = diff(f1,y)\n",
    "f1y"
   ]
  },
  {
   "cell_type": "code",
   "execution_count": 4,
   "metadata": {},
   "outputs": [
    {
     "data": {
      "text/plain": [
       "[35.0000000000000, 28.0000000000000]"
      ]
     },
     "execution_count": 4,
     "metadata": {},
     "output_type": "execute_result"
    }
   ],
   "source": [
    "def grad(x0,y0,fx, fy):\n",
    "    return [f1x.evalf(subs={x:x0,y:y0}), f1y.evalf(subs={x:x0,y:y0})]\n",
    "\n",
    "grad(1,2,f1x,f1y)"
   ]
  },
  {
   "cell_type": "code",
   "execution_count": 5,
   "metadata": {},
   "outputs": [
    {
     "data": {
      "text/latex": [
       "$\\displaystyle 2 x y - 2 x \\sin{\\left(x^{2} \\right)} - y \\cos{\\left(x y \\right)}$"
      ],
      "text/plain": [
       "2*x*y - 2*x*sin(x**2) - y*cos(x*y)"
      ]
     },
     "execution_count": 5,
     "metadata": {},
     "output_type": "execute_result"
    }
   ],
   "source": [
    "f2 = x**2*y - sin(x*y) + cos(x**2) + 6*y\n",
    "diff(f2,x)"
   ]
  },
  {
   "cell_type": "code",
   "execution_count": 6,
   "metadata": {},
   "outputs": [
    {
     "data": {
      "text/latex": [
       "$\\displaystyle x^{2} - x \\cos{\\left(x y \\right)} + 6$"
      ],
      "text/plain": [
       "x**2 - x*cos(x*y) + 6"
      ]
     },
     "execution_count": 6,
     "metadata": {},
     "output_type": "execute_result"
    }
   ],
   "source": [
    "diff(f2,y)"
   ]
  },
  {
   "cell_type": "markdown",
   "metadata": {},
   "source": [
    "### Уровень 1:\n",
    "Градиентный спуск своими руками:"
   ]
  },
  {
   "cell_type": "code",
   "execution_count": 7,
   "metadata": {},
   "outputs": [
    {
     "name": "stdout",
     "output_type": "stream",
     "text": [
      "Минимум достигается в:  [ 1.2919787e-08 -9.3297272e-09]\n",
      "Значение функции в минимуме:  2.539647064599092e-16\n"
     ]
    }
   ],
   "source": [
    "def f(X):\n",
    "    return (X[0]**2) + (X[1]**2)\n",
    "\n",
    "X = np.array([100, 200])\n",
    "learning_rate = 0.1\n",
    "eps = np.sqrt(np.finfo(float).eps)\n",
    "\n",
    "for i in range(100):\n",
    "\n",
    "    grad_ = approx_fprime(X, f, [eps, np.sqrt(200) * eps])\n",
    "    X = X.astype('float32')\n",
    "    X -= learning_rate * grad_\n",
    "    \n",
    "print(\"Минимум достигается в: \", X)\n",
    "print(\"Значение функции в минимуме: \", f(X))"
   ]
  },
  {
   "cell_type": "markdown",
   "metadata": {},
   "source": [
    "Проверка с помощью встроенной функции numpy:"
   ]
  },
  {
   "cell_type": "code",
   "execution_count": 8,
   "metadata": {},
   "outputs": [
    {
     "name": "stdout",
     "output_type": "stream",
     "text": [
      "Optimization terminated successfully.\n",
      "         Current function value: 0.000000\n",
      "         Iterations: 1\n",
      "         Function evaluations: 3\n"
     ]
    },
    {
     "data": {
      "text/plain": [
       " final_simplex: (array([[ 1.29197870e-08, -9.32972721e-09],\n",
       "       [ 1.29197870e-08, -9.79621357e-09],\n",
       "       [ 1.35657764e-08, -9.32972721e-09]]), array([2.53964706e-16, 2.62886697e-16, 2.71074098e-16]))\n",
       "           fun: 2.539647064599092e-16\n",
       "       message: 'Optimization terminated successfully.'\n",
       "          nfev: 3\n",
       "           nit: 1\n",
       "        status: 0\n",
       "       success: True\n",
       "             x: array([ 1.29197870e-08, -9.32972721e-09])"
      ]
     },
     "execution_count": 8,
     "metadata": {},
     "output_type": "execute_result"
    }
   ],
   "source": [
    "minimize(f, X, method='nelder-mead', options={'xtol': 1e-8, 'disp': True})"
   ]
  }
 ],
 "metadata": {
  "kernelspec": {
   "display_name": "Python 3",
   "language": "python",
   "name": "python3"
  },
  "language_info": {
   "codemirror_mode": {
    "name": "ipython",
    "version": 3
   },
   "file_extension": ".py",
   "mimetype": "text/x-python",
   "name": "python",
   "nbconvert_exporter": "python",
   "pygments_lexer": "ipython3",
   "version": "3.8.3"
  }
 },
 "nbformat": 4,
 "nbformat_minor": 4
}
