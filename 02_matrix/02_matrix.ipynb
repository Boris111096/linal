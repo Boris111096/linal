{
 "cells": [
  {
   "cell_type": "markdown",
   "metadata": {},
   "source": [
    "# Домашнее задание \"Линейная алгебра. Матрицы\"."
   ]
  },
  {
   "cell_type": "code",
   "execution_count": 1,
   "metadata": {},
   "outputs": [],
   "source": [
    "import numpy as np\n",
    "import matplotlib.pyplot as plt\n",
    "plt.rcParams[\"figure.figsize\"] = (5,5) "
   ]
  },
  {
   "cell_type": "markdown",
   "metadata": {},
   "source": [
    "### Уровень 0:"
   ]
  },
  {
   "cell_type": "markdown",
   "metadata": {},
   "source": [
    "* Создайте матрицу 3 на 3, заполненную числами от 1 до 9"
   ]
  },
  {
   "cell_type": "code",
   "execution_count": 2,
   "metadata": {},
   "outputs": [
    {
     "data": {
      "text/plain": [
       "array([[1, 2, 3],\n",
       "       [4, 5, 6],\n",
       "       [7, 8, 9]])"
      ]
     },
     "execution_count": 2,
     "metadata": {},
     "output_type": "execute_result"
    }
   ],
   "source": [
    "m1 = np.array([x+1 for x in range(9)]).reshape(3,3)\n",
    "m1"
   ]
  },
  {
   "cell_type": "markdown",
   "metadata": {},
   "source": [
    "* Прибавьте к ней матрицу с единицами по диагонали"
   ]
  },
  {
   "cell_type": "code",
   "execution_count": 3,
   "metadata": {},
   "outputs": [
    {
     "data": {
      "text/plain": [
       "array([[ 2.,  2.,  3.],\n",
       "       [ 4.,  6.,  6.],\n",
       "       [ 7.,  8., 10.]])"
      ]
     },
     "execution_count": 3,
     "metadata": {},
     "output_type": "execute_result"
    }
   ],
   "source": [
    "m2 = m1 + np.eye(3)\n",
    "m2"
   ]
  },
  {
   "cell_type": "markdown",
   "metadata": {},
   "source": [
    "* Умножьте полученную матрицу на вектор (1, 2, 3)"
   ]
  },
  {
   "cell_type": "code",
   "execution_count": 4,
   "metadata": {},
   "outputs": [
    {
     "data": {
      "text/plain": [
       "array([[ 2.,  4.,  9.],\n",
       "       [ 4., 12., 18.],\n",
       "       [ 7., 16., 30.]])"
      ]
     },
     "execution_count": 4,
     "metadata": {},
     "output_type": "execute_result"
    }
   ],
   "source": [
    "m3 = m2 * np.array([x+1 for x in range(3)])\n",
    "m3"
   ]
  },
  {
   "cell_type": "markdown",
   "metadata": {},
   "source": [
    "* Посчитайте обратную матрицу к полученной матрице"
   ]
  },
  {
   "cell_type": "code",
   "execution_count": 5,
   "metadata": {},
   "outputs": [
    {
     "data": {
      "text/plain": [
       "array([[-6.        , -2.        ,  3.        ],\n",
       "       [-0.5       ,  0.25      ,  0.        ],\n",
       "       [ 1.66666667,  0.33333333, -0.66666667]])"
      ]
     },
     "execution_count": 5,
     "metadata": {},
     "output_type": "execute_result"
    }
   ],
   "source": [
    "m4 = np.linalg.inv(m3)\n",
    "m4"
   ]
  },
  {
   "cell_type": "markdown",
   "metadata": {},
   "source": [
    "### Уровень 1:"
   ]
  },
  {
   "cell_type": "markdown",
   "metadata": {},
   "source": [
    "Дан объект в 2d пространстве:"
   ]
  },
  {
   "cell_type": "code",
   "execution_count": 6,
   "metadata": {},
   "outputs": [
    {
     "data": {
      "text/plain": [
       "(-200.0, 200.0)"
      ]
     },
     "execution_count": 6,
     "metadata": {},
     "output_type": "execute_result"
    },
    {
     "data": {
      "image/png": "[encoded data removed]",
      "text/plain": [
       "<Figure size 360x360 with 1 Axes>"
      ]
     },
     "metadata": {
      "needs_background": "light"
     },
     "output_type": "display_data"
    }
   ],
   "source": [
    "A = [\n",
    "[-100, -100, 1],\n",
    "[-100, 100, 1],\n",
    "[100, 100, 1],\n",
    "[0, 0, 1],\n",
    "[100, -100, 1],\n",
    "[-100, -100, 1]\n",
    "]\n",
    "\n",
    "A = np.array(A)\n",
    "x = A[:,0]\n",
    "y = A[:,1]\n",
    "\n",
    "plt.plot(x, y)\n",
    "plt.ylim([-200, 200])\n",
    "plt.xlim([-200, 200])"
   ]
  },
  {
   "cell_type": "markdown",
   "metadata": {},
   "source": [
    "___\n",
    "При помощи матричных операций выполните:"
   ]
  },
  {
   "cell_type": "markdown",
   "metadata": {},
   "source": [
    "* Уменьшить объект в два раза"
   ]
  },
  {
   "cell_type": "code",
   "execution_count": 7,
   "metadata": {},
   "outputs": [
    {
     "data": {
      "text/plain": [
       "(-200.0, 200.0)"
      ]
     },
     "execution_count": 7,
     "metadata": {},
     "output_type": "execute_result"
    },
    {
     "data": {
      "image/png": "[encoded data removed]",
      "text/plain": [
       "<Figure size 360x360 with 1 Axes>"
      ]
     },
     "metadata": {
      "needs_background": "light"
     },
     "output_type": "display_data"
    }
   ],
   "source": [
    "A1 = A @ np.diag([0.5, 0.5, 1])\n",
    "\n",
    "x = A1[:,0]\n",
    "y = A1[:,1]\n",
    "\n",
    "plt.plot(x, y)\n",
    "plt.ylim([-200, 200])\n",
    "plt.xlim([-200, 200])"
   ]
  },
  {
   "cell_type": "markdown",
   "metadata": {},
   "source": [
    "___\n",
    "* Повернуть на 130 градусов"
   ]
  },
  {
   "cell_type": "code",
   "execution_count": 8,
   "metadata": {},
   "outputs": [
    {
     "data": {
      "text/plain": [
       "(-200.0, 200.0)"
      ]
     },
     "execution_count": 8,
     "metadata": {},
     "output_type": "execute_result"
    },
    {
     "data": {
      "image/png": "[encoded data removed]",
      "text/plain": [
       "<Figure size 360x360 with 1 Axes>"
      ]
     },
     "metadata": {
      "needs_background": "light"
     },
     "output_type": "display_data"
    }
   ],
   "source": [
    "A2 = np.array([\n",
    "                A[i][:2] @ np.array( [ [ np.cos(130/180*np.pi), -np.sin(130/180*np.pi) ],\n",
    "                                       [ np.sin(130/180*np.pi),  np.cos(130/180*np.pi) ] ] )\n",
    "                for i in range(len(A))\n",
    "                ])\n",
    "\n",
    "x = A2[:,0]\n",
    "y = A2[:,1]\n",
    "\n",
    "plt.plot(x, y)\n",
    "plt.ylim([-200, 200])\n",
    "plt.xlim([-200, 200])"
   ]
  },
  {
   "cell_type": "markdown",
   "metadata": {},
   "source": [
    "___\n",
    "* Отразить объект относительно прямой y=x"
   ]
  },
  {
   "cell_type": "code",
   "execution_count": 9,
   "metadata": {},
   "outputs": [
    {
     "data": {
      "text/plain": [
       "(-200.0, 200.0)"
      ]
     },
     "execution_count": 9,
     "metadata": {},
     "output_type": "execute_result"
    },
    {
     "data": {
      "image/png": "[encoded data removed]",
      "text/plain": [
       "<Figure size 360x360 with 1 Axes>"
      ]
     },
     "metadata": {
      "needs_background": "light"
     },
     "output_type": "display_data"
    }
   ],
   "source": [
    "A3 = np.array([\n",
    "                A[i][:2]\n",
    "                @ np.array( [ [ np.cos(np.pi/4),  np.sin(np.pi/4) ],\n",
    "                              [ np.sin(np.pi/4), -np.cos(np.pi/4) ] ] )\n",
    "                @ np.array( [ [ np.cos(np.pi/4), np.sin(np.pi/4) ],\n",
    "                              [-np.sin(np.pi/4), np.cos(np.pi/4) ] ] )\n",
    "    \n",
    "                for i in range(len(A))\n",
    "                ])\n",
    "\n",
    "x = A3[:,0]\n",
    "y = A3[:,1]\n",
    "\n",
    "plt.plot(x, y)\n",
    "plt.ylim([-200, 200])\n",
    "plt.xlim([-200, 200])"
   ]
  },
  {
   "cell_type": "markdown",
   "metadata": {},
   "source": [
    "___\n",
    "* Выполнить смещение объекта и масштабирование (применить 2 матрицы трансформаций).  \n",
    "Смещение на (200, 300) и масштабирование на (0.5, 1.2)"
   ]
  },
  {
   "cell_type": "code",
   "execution_count": 10,
   "metadata": {},
   "outputs": [
    {
     "data": {
      "text/plain": [
       "(-200.0, 500.0)"
      ]
     },
     "execution_count": 10,
     "metadata": {},
     "output_type": "execute_result"
    },
    {
     "data": {
      "image/png": "[encoded data removed]",
      "text/plain": [
       "<Figure size 360x360 with 1 Axes>"
      ]
     },
     "metadata": {
      "needs_background": "light"
     },
     "output_type": "display_data"
    }
   ],
   "source": [
    "A4 = ( ( np.array( [ A[i][:2] for i in range(len(A)) ] ) + np.array( [ [200, 300] for i in range(len(A)) ] ) )\n",
    "         * np.array( [ [0.5, 1.2] for i in range(len(A)) ] ) )\n",
    "\n",
    "x = A4[:,0]\n",
    "y = A4[:,1]\n",
    "\n",
    "plt.plot(x, y)\n",
    "plt.ylim([-200, 500])\n",
    "plt.xlim([-200, 500])"
   ]
  },
  {
   "cell_type": "code",
   "execution_count": 11,
   "metadata": {},
   "outputs": [
    {
     "name": "stdout",
     "output_type": "stream",
     "text": [
      "[[-100 -100    1]\n",
      " [-100  100    1]\n",
      " [ 100  100    1]\n",
      " [   0    0    1]\n",
      " [ 100 -100    1]\n",
      " [-100 -100    1]] \n",
      "\n",
      "[[-50. -50.   1.]\n",
      " [-50.  50.   1.]\n",
      " [ 50.  50.   1.]\n",
      " [  0.   0.   1.]\n",
      " [ 50. -50.   1.]\n",
      " [-50. -50.   1.]] \n",
      "\n",
      "[[ -12.32568334  140.88320528]\n",
      " [ 140.88320528   12.32568334]\n",
      " [  12.32568334 -140.88320528]\n",
      " [   0.            0.        ]\n",
      " [-140.88320528  -12.32568334]\n",
      " [ -12.32568334  140.88320528]] \n",
      "\n",
      "[[-100. -100.]\n",
      " [ 100. -100.]\n",
      " [ 100.  100.]\n",
      " [   0.    0.]\n",
      " [-100.  100.]\n",
      " [-100. -100.]] \n",
      "\n",
      "[[ 50. 240.]\n",
      " [ 50. 480.]\n",
      " [150. 480.]\n",
      " [100. 360.]\n",
      " [150. 240.]\n",
      " [ 50. 240.]] \n",
      "\n"
     ]
    }
   ],
   "source": [
    "print(A,'\\n')\n",
    "print(A1,'\\n')\n",
    "print(A2,'\\n')\n",
    "print(A3,'\\n')\n",
    "print(A4,'\\n')"
   ]
  }
 ],
 "metadata": {
  "kernelspec": {
   "display_name": "Python 3",
   "language": "python",
   "name": "python3"
  },
  "language_info": {
   "codemirror_mode": {
    "name": "ipython",
    "version": 3
   },
   "file_extension": ".py",
   "mimetype": "text/x-python",
   "name": "python",
   "nbconvert_exporter": "python",
   "pygments_lexer": "ipython3",
   "version": "3.8.3"
  }
 },
 "nbformat": 4,
 "nbformat_minor": 4
}
