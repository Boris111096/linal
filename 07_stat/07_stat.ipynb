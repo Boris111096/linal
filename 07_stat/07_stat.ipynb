{
 "cells": [
  {
   "cell_type": "markdown",
   "metadata": {},
   "source": [
    "# Домашнее задание \"Теория вероятности. Дискретные Случайные Величины\"."
   ]
  },
  {
   "cell_type": "code",
   "execution_count": 1,
   "metadata": {},
   "outputs": [],
   "source": [
    "import matplotlib.pyplot as plt\n",
    "import numpy as np\n",
    "import random\n",
    "import seaborn\n",
    "import pandas as pd\n",
    "import math\n",
    "\n",
    "from numpy.random import choice\n",
    "from scipy.stats import *\n",
    "\n",
    "%matplotlib inline"
   ]
  },
  {
   "cell_type": "markdown",
   "metadata": {},
   "source": [
    "### Уровень 0:\n",
    "* Задание 1:  \n",
    "Монетку подбрасывают 15 раз, найдите вероятность выпадения простого числа орлов.\n",
    "\n",
    "\n",
    "* Задание 2:  \n",
    "Создайте свою дискретную случайную величину с не менее, чем 10 значениями. Просемплируйте 1000 случайных значений, постройте гистограмму плотности распределения по выборке, посчитайте среднее, дисперсию и медиану."
   ]
  },
  {
   "cell_type": "code",
   "execution_count": 78,
   "metadata": {},
   "outputs": [
    {
     "data": {
      "text/plain": [
       "0.34722900390625"
      ]
     },
     "execution_count": 78,
     "metadata": {},
     "output_type": "execute_result"
    }
   ],
   "source": [
    "# Задание 1:\n",
    "\n",
    "def n_1():\n",
    "\n",
    "    K = [1, 3, 5, 7, 11, 13]\n",
    "    n = 15\n",
    "    p = 0\n",
    "\n",
    "    for k in K:\n",
    "        p += math.factorial(n) / ( math.factorial(k) * ( math.factorial(n-k) ) ) * 0.5**k * 0.5**(n-k)\n",
    "\n",
    "    return p\n",
    "\n",
    "n_1()"
   ]
  },
  {
   "cell_type": "code",
   "execution_count": 67,
   "metadata": {},
   "outputs": [
    {
     "data": {
      "text/plain": [
       "array([[<matplotlib.axes._subplots.AxesSubplot object at 0x000001A6240254C0>]],\n",
       "      dtype=object)"
      ]
     },
     "execution_count": 67,
     "metadata": {},
     "output_type": "execute_result"
    },
    {
     "data": {
      "image/png": "[encoded data removed]",
      "text/plain": [
       "<Figure size 432x288 with 1 Axes>"
      ]
     },
     "metadata": {
      "needs_background": "light"
     },
     "output_type": "display_data"
    }
   ],
   "source": [
    "# Задание 2:\n",
    "\n",
    "X = pd.DataFrame([np.random.randint(1,11) for x in range(1000)])\n",
    "X.hist()"
   ]
  },
  {
   "cell_type": "code",
   "execution_count": 68,
   "metadata": {},
   "outputs": [
    {
     "data": {
      "text/html": [
       "<div>\n",
       "<style scoped>\n",
       "    .dataframe tbody tr th:only-of-type {\n",
       "        vertical-align: middle;\n",
       "    }\n",
       "\n",
       "    .dataframe tbody tr th {\n",
       "        vertical-align: top;\n",
       "    }\n",
       "\n",
       "    .dataframe thead th {\n",
       "        text-align: right;\n",
       "    }\n",
       "</style>\n",
       "<table border=\"1\" class=\"dataframe\">\n",
       "  <thead>\n",
       "    <tr style=\"text-align: right;\">\n",
       "      <th></th>\n",
       "      <th>0</th>\n",
       "    </tr>\n",
       "  </thead>\n",
       "  <tbody>\n",
       "    <tr>\n",
       "      <th>count</th>\n",
       "      <td>1000.000000</td>\n",
       "    </tr>\n",
       "    <tr>\n",
       "      <th>mean</th>\n",
       "      <td>5.445000</td>\n",
       "    </tr>\n",
       "    <tr>\n",
       "      <th>std</th>\n",
       "      <td>2.924299</td>\n",
       "    </tr>\n",
       "    <tr>\n",
       "      <th>min</th>\n",
       "      <td>1.000000</td>\n",
       "    </tr>\n",
       "    <tr>\n",
       "      <th>25%</th>\n",
       "      <td>3.000000</td>\n",
       "    </tr>\n",
       "    <tr>\n",
       "      <th>50%</th>\n",
       "      <td>5.000000</td>\n",
       "    </tr>\n",
       "    <tr>\n",
       "      <th>75%</th>\n",
       "      <td>8.000000</td>\n",
       "    </tr>\n",
       "    <tr>\n",
       "      <th>max</th>\n",
       "      <td>10.000000</td>\n",
       "    </tr>\n",
       "  </tbody>\n",
       "</table>\n",
       "</div>"
      ],
      "text/plain": [
       "                 0\n",
       "count  1000.000000\n",
       "mean      5.445000\n",
       "std       2.924299\n",
       "min       1.000000\n",
       "25%       3.000000\n",
       "50%       5.000000\n",
       "75%       8.000000\n",
       "max      10.000000"
      ]
     },
     "execution_count": 68,
     "metadata": {},
     "output_type": "execute_result"
    }
   ],
   "source": [
    "X.describe()"
   ]
  },
  {
   "cell_type": "code",
   "execution_count": 69,
   "metadata": {},
   "outputs": [
    {
     "data": {
      "text/plain": [
       "0    8.542975\n",
       "dtype: float64"
      ]
     },
     "execution_count": 69,
     "metadata": {},
     "output_type": "execute_result"
    }
   ],
   "source": [
    "np.var(X)"
   ]
  },
  {
   "cell_type": "markdown",
   "metadata": {},
   "source": [
    "### Уровень 1:\n",
    "* Задание 3:  \n",
    "\n",
    "Пусть брошены 3 уравновешенные монеты.  \n",
    "\n",
    "Рассмотрим 3 события:  \n",
    "\n",
    "A1 - монеты 1 и 2 упали одной и той же стороной;  \n",
    "\n",
    "A2 - монеты 2 и 3 упали одной и той же стороной;  \n",
    "\n",
    "A3 - монеты 1 и 3 упали одной и той же стороной.  \n",
    "\n",
    "Покажите, почему эти 3 события (A1, A2, A3) являются попарно независимыми, но не являются независимыми в совокупности.  \n",
    "\n",
    "* Задание 4 (формула полной вероятности):  \n",
    "\n",
    "В магазин привезли устройства с 3-х разных предприятий.  \n",
    "\n",
    "Соотношение устройств следующее: 20% - продукция первого предприятия, 30% - продукция второго предприятия, 50% - продукция третьего предприятия; далее, 10% продукции первого предприятия высшего сорта, на втором предприятии - 5% и на третьем - 20% продукции высшего сорта.  \n",
    "\n",
    "Найти вероятность того, что случайно купленная новая продукция окажется высшего сорта."
   ]
  },
  {
   "cell_type": "code",
   "execution_count": 109,
   "metadata": {},
   "outputs": [
    {
     "data": {
      "text/plain": [
       "1.0"
      ]
     },
     "execution_count": 109,
     "metadata": {},
     "output_type": "execute_result"
    }
   ],
   "source": [
    "# Задание 3:\n",
    "\n",
    "def n_3():\n",
    "    p_a1 = 2*1*2/8 # Вероятность А1\n",
    "    \n",
    "    p_a2 = 2*2*1/8 # Вероятность А2\n",
    "    \n",
    "    p_a3 = 2*2*1/8 # Вероятность А3\n",
    "    \n",
    "    p_a3_a1 = p_a1 * p_a3 # Вероятность А3 при А1\n",
    "    \n",
    "    p_a3_a2 = p_a2 * p_a3 # Вероятность А3 при А2\n",
    "    \n",
    "    p_a3_a1_2 = ( p_a3_a1 + p_a3_a2 ) * 2   # Вероятность А3 при А1 и А2 (умножаем на 2, т.к. нас устраивают и орёл и решка,\n",
    "                                            # а мы нашли вероятность выпадения чего-то одного.\n",
    "    \n",
    "    return p_a3_a1_2\n",
    "\n",
    "n_3()"
   ]
  },
  {
   "cell_type": "markdown",
   "metadata": {},
   "source": [
    "Выполнение любых двух событий всегда ведёт к выполнению третьего события. Допустим, если выполняется событие А1, то могут наступить 2 других, а могут не наступить) Но если выполнилось событие и А1 и А2, то А3 - наступает всегда."
   ]
  },
  {
   "cell_type": "code",
   "execution_count": 112,
   "metadata": {},
   "outputs": [
    {
     "data": {
      "text/plain": [
       "0.135"
      ]
     },
     "execution_count": 112,
     "metadata": {},
     "output_type": "execute_result"
    }
   ],
   "source": [
    "# Задание 4:\n",
    "\n",
    "def n_4():\n",
    "    p_1 = 2/10\n",
    "    p_2 = 3/10\n",
    "    p_3 = 5/10\n",
    "    \n",
    "    s_1 = 1/10\n",
    "    s_2 = 5/100\n",
    "    s_3 = 2/10\n",
    "    \n",
    "    P_s = p_1 * s_1 + p_2 * s_2 + p_3 * s_3\n",
    "    \n",
    "    return P_s\n",
    "\n",
    "n_4()"
   ]
  }
 ],
 "metadata": {
  "kernelspec": {
   "display_name": "Python 3",
   "language": "python",
   "name": "python3"
  },
  "language_info": {
   "codemirror_mode": {
    "name": "ipython",
    "version": 3
   },
   "file_extension": ".py",
   "mimetype": "text/x-python",
   "name": "python",
   "nbconvert_exporter": "python",
   "pygments_lexer": "ipython3",
   "version": "3.8.3"
  }
 },
 "nbformat": 4,
 "nbformat_minor": 4
}
